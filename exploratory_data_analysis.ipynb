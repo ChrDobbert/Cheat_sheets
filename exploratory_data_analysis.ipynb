{
 "cells": [
  {
   "cell_type": "markdown",
   "metadata": {
    "id": "S6SH3HGoC0XH"
   },
   "source": [
    "# Stats"
   ]
  },
  {
   "cell_type": "markdown",
   "metadata": {
    "id": "We8SJoO26vHh"
   },
   "source": [
    "## Libraries"
   ]
  },
  {
   "cell_type": "code",
   "execution_count": 3,
   "metadata": {
    "id": "QwoxOSog6vHi"
   },
   "outputs": [],
   "source": [
    "import numpy as np\n",
    "import scipy as \n",
    "import pandas as pd\n",
    "import matplotlib.pyplot as plt\n",
    "import seaborn as sns # Set default Seaborn style\n",
    "\n",
    "#PLOTLY\n",
    "import plotly.express as px\n",
    "import plotly.graph_objects as go\n",
    "import plotly.figure_factory as ff\n",
    "\n",
    "sns.set(style=\"whitegrid\")\n",
    "pd.set_option(\"display.max.columns\", None)"
   ]
  },
  {
   "cell_type": "code",
   "execution_count": 16,
   "metadata": {
    "tags": []
   },
   "outputs": [],
   "source": [
    "# Loading built-in Datasets:\n",
    "iris = sns.load_dataset(\"iris\")"
   ]
  },
  {
   "cell_type": "code",
   "execution_count": 19,
   "metadata": {},
   "outputs": [],
   "source": [
    "iris = pd.DataFrame(iris)"
   ]
  },
  {
   "cell_type": "code",
   "execution_count": 21,
   "metadata": {
    "tags": []
   },
   "outputs": [
    {
     "output_type": "stream",
     "name": "stdout",
     "text": "&lt;bound method DataFrame.info of      sepal_length  sepal_width  petal_length  petal_width    species\n0             5.1          3.5           1.4          0.2     setosa\n1             4.9          3.0           1.4          0.2     setosa\n2             4.7          3.2           1.3          0.2     setosa\n3             4.6          3.1           1.5          0.2     setosa\n4             5.0          3.6           1.4          0.2     setosa\n..            ...          ...           ...          ...        ...\n145           6.7          3.0           5.2          2.3  virginica\n146           6.3          2.5           5.0          1.9  virginica\n147           6.5          3.0           5.2          2.0  virginica\n148           6.2          3.4           5.4          2.3  virginica\n149           5.9          3.0           5.1          1.8  virginica\n\n[150 rows x 5 columns]&gt;\n"
    }
   ],
   "source": [
    "print(iris.info)"
   ]
  },
  {
   "source": [
    "# Measures of Central Tendency\n",
    "The measures of central tendency show the central or middle values of datasets. There are several definitions of what’s considered to be the center of a dataset. In this tutorial, you’ll learn how to identify and calculate these measures of central tendency:\n",
    "\n",
    "* Mean\n",
    "* Weighted mean\n",
    "* Geometric mean\n",
    "* Harmonic mean\n",
    "* Median\n",
    "* Mode\n"
   ],
   "cell_type": "markdown",
   "metadata": {}
  },
  {
   "source": [
    "## Mean absolute deviation"
   ],
   "cell_type": "markdown",
   "metadata": {}
  },
  {
   "cell_type": "code",
   "execution_count": 22,
   "metadata": {},
   "outputs": [
    {
     "output_type": "execute_result",
     "data": {
      "text/plain": "sepal_length    0.687556\nsepal_width     0.336782\npetal_length    1.562747\npetal_width     0.658133\ndtype: float64"
     },
     "metadata": {},
     "execution_count": 22
    }
   ],
   "source": [
    "iris.mad()"
   ]
  },
  {
   "source": [
    "## Variance"
   ],
   "cell_type": "markdown",
   "metadata": {}
  },
  {
   "cell_type": "code",
   "execution_count": 23,
   "metadata": {},
   "outputs": [
    {
     "output_type": "execute_result",
     "data": {
      "text/plain": "sepal_length    0.685694\nsepal_width     0.189979\npetal_length    3.116278\npetal_width     0.581006\ndtype: float64"
     },
     "metadata": {},
     "execution_count": 23
    }
   ],
   "source": [
    "iris.var()"
   ]
  },
  {
   "source": [
    "# Measures of Variability\n",
    "The measures of central tendency aren’t sufficient to describe data. You’ll also need the measures of variability that quantify the spread of data points. In this section, you’ll learn how to identify and calculate the following variability measures:\n",
    "\n",
    "* Variance\n",
    "* Standard deviation\n",
    "* Skewness\n",
    "* Percentiles\n",
    "* Ranges"
   ],
   "cell_type": "markdown",
   "metadata": {}
  },
  {
   "source": [
    "## Coefficient of variation"
   ],
   "cell_type": "markdown",
   "metadata": {}
  },
  {
   "cell_type": "code",
   "execution_count": 32,
   "metadata": {},
   "outputs": [
    {
     "output_type": "execute_result",
     "data": {
      "text/plain": "sepal_length    0.141238\nsepal_width     0.142088\npetal_length    0.468176\npetal_width     0.633429\ndtype: float64"
     },
     "metadata": {},
     "execution_count": 32
    }
   ],
   "source": [
    "np.std(iris)/np.mean(iris)\n"
   ]
  },
  {
   "source": [
    "## Standard deviation"
   ],
   "cell_type": "markdown",
   "metadata": {}
  },
  {
   "cell_type": "code",
   "execution_count": 29,
   "metadata": {},
   "outputs": [
    {
     "output_type": "execute_result",
     "data": {
      "text/plain": "sepal_length    0.828066\nsepal_width     0.435866\npetal_length    1.765298\npetal_width     0.762238\ndtype: float64"
     },
     "metadata": {},
     "execution_count": 29
    }
   ],
   "source": [
    "iris.std()"
   ]
  },
  {
   "source": [
    "## Skewness"
   ],
   "cell_type": "markdown",
   "metadata": {}
  },
  {
   "cell_type": "code",
   "execution_count": 33,
   "metadata": {},
   "outputs": [
    {
     "output_type": "execute_result",
     "data": {
      "text/plain": "sepal_length    0.314911\nsepal_width     0.318966\npetal_length   -0.274884\npetal_width    -0.102967\ndtype: float64"
     },
     "metadata": {},
     "execution_count": 33
    }
   ],
   "source": [
    "iris.skew()"
   ]
  },
  {
   "source": [
    "## Quantiles"
   ],
   "cell_type": "markdown",
   "metadata": {}
  },
  {
   "source": [
    "quantiles = iris.quantile([0.25, 0.5, 0.75])\n",
    "\n",
    "print(quantiles)"
   ],
   "cell_type": "code",
   "metadata": {
    "tags": []
   },
   "execution_count": 39,
   "outputs": [
    {
     "output_type": "stream",
     "name": "stdout",
     "text": "      sepal_length  sepal_width  petal_length  petal_width\n0.25           5.1          2.8          1.60          0.3\n0.50           5.8          3.0          4.35          1.3\n0.75           6.4          3.3          5.10          1.8\n"
    }
   ]
  },
  {
   "source": [
    "## Covariance\n",
    "\n",
    "### Measures of Correlation Between Pairs of Data\n",
    "You’ll often need to examine the relationship between the corresponding elements of two variables in a dataset. Say there are two variables, 𝑥 and 𝑦, with an equal number of elements, $𝑛$. Let $𝑥_₁$ from $𝑥$ correspond to $𝑦₁$ from $𝑦$, $𝑥_2$ from $𝑥$ to $𝑦_2$ from $𝑦$, and so on. You can then say that there are $𝑛$ pairs of corresponding elements: $(𝑥_₁, 𝑦_₁)$, $(𝑥₂, 𝑦₂)$, and so on.\n",
    "\n",
    "You’ll see the following measures of correlation between pairs of data:\n",
    "\n",
    "Positive correlation exists when larger values of $𝑥$ correspond to larger values of $𝑦$ and vice versa.\n",
    "Negative correlation exists when larger values of $𝑥$ correspond to smaller values of $𝑦$ and vice versa.\n",
    "Weak or no correlation exists if there is no such apparent relationship.\n",
    "\n",
    "The two statistics that measure the correlation between datasets are covariance and the correlation coefficient.\n",
    "\n",
    "<p style=“\n",
    "   color: #32516b;\n",
    "   background-color: #dfebf5;\n",
    "   border-color: #d3e3f1;”>When working with correlation among a pair of variables, and that’s that correlation is not a measure or indicator of causation, but only of association!</p>\n"
   ],
   "cell_type": "markdown",
   "metadata": {}
  },
  {
   "cell_type": "code",
   "execution_count": 43,
   "metadata": {
    "tags": []
   },
   "outputs": [
    {
     "output_type": "stream",
     "name": "stdout",
     "text": "              sepal_length  sepal_width  petal_length  petal_width\nsepal_length      0.685694    -0.042434      1.274315     0.516271\nsepal_width      -0.042434     0.189979     -0.329656    -0.121639\npetal_length      1.274315    -0.329656      3.116278     1.295609\npetal_width       0.516271    -0.121639      1.295609     0.581006\n"
    }
   ],
   "source": [
    "covariance = iris.cov()\n",
    "print(covariance)"
   ]
  },
  {
   "cell_type": "code",
   "execution_count": null,
   "metadata": {},
   "outputs": [],
   "source": []
  }
 ],
 "metadata": {
  "colab": {
   "collapsed_sections": [],
   "name": "Python_cheat_sheet.ipynb",
   "provenance": []
  },
  "kernelspec": {
   "display_name": "Python 3",
   "language": "python",
   "name": "python3"
  },
  "language_info": {
   "codemirror_mode": {
    "name": "ipython",
    "version": 3
   },
   "file_extension": ".py",
   "mimetype": "text/x-python",
   "name": "python",
   "nbconvert_exporter": "python",
   "pygments_lexer": "ipython3",
   "version": "3.7.6-final"
  }
 },
 "nbformat": 4,
 "nbformat_minor": 1
}