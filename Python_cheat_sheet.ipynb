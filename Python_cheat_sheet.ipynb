{
  "nbformat": 4,
  "nbformat_minor": 0,
  "metadata": {
    "colab": {
      "name": "Python_cheat_sheet.ipynb",
      "provenance": [],
      "collapsed_sections": [],
      "authorship_tag": "ABX9TyPFi1K4ckoVJgs8SabtykUT",
      "include_colab_link": true
    },
    "kernelspec": {
      "name": "python3",
      "display_name": "Python 3"
    }
  },
  "cells": [
    {
      "cell_type": "markdown",
      "metadata": {
        "id": "view-in-github",
        "colab_type": "text"
      },
      "source": [
        "<a href=\"https://colab.research.google.com/github/ChrDobbert/Cheat_sheets/blob/main/Python_cheat_sheet.ipynb\" target=\"_parent\"><img src=\"https://colab.research.google.com/assets/colab-badge.svg\" alt=\"Open In Colab\"/></a>"
      ]
    },
    {
      "source": [
        "# Python cheat sheet"
      ],
      "cell_type": "markdown",
      "metadata": {
        "id": "S6SH3HGoC0XH"
      }
    },
    {
      "source": [
        "## Libraries"
      ],
      "cell_type": "markdown",
      "metadata": {}
    },
    {
      "cell_type": "code",
      "execution_count": 3,
      "metadata": {},
      "outputs": [],
      "source": [
        "import pandas as pd"
      ]
    },
    {
      "source": [
        "## Creating DataFrames"
      ],
      "cell_type": "markdown",
      "metadata": {}
    },
    {
      "cell_type": "code",
      "execution_count": 13,
      "metadata": {
        "tags": []
      },
      "outputs": [
        {
          "output_type": "stream",
          "name": "stdout",
          "text": "   a  b   c\n1  4  7  10\n2  5  8  11\n3  6  9  12\n"
        }
      ],
      "source": [
        "df = pd.DataFrame(\n",
        "{\"a\" : [4 ,5, 6],\n",
        "\"b\" : [7, 8, 9],\n",
        "\"c\" : [10, 11, 12]},\n",
        "index = [1, 2, 3]\n",
        ")\n",
        "\n",
        "print(df)"
      ]
    },
    {
      "cell_type": "code",
      "execution_count": null,
      "metadata": {},
      "outputs": [],
      "source": [
        "some_list = ['foo', 'bar', 'baz']\n",
        "\n",
        "In [85]: mapping = {}\n",
        "\n",
        "In [86]: for i, v in enumerate(some_list):\n",
        "   ....:     mapping[v] = i\n",
        "\n",
        "In [87]: mapping\n",
        "Out[87]: {'bar': 1, 'baz': 2, 'foo': 0}"
      ]
    },
    {
      "source": [
        "## Datatypes: categorical"
      ],
      "cell_type": "markdown",
      "metadata": {}
    },
    {
      "source": [
        "### Ordered categories"
      ],
      "cell_type": "markdown",
      "metadata": {}
    },
    {
      "cell_type": "code",
      "execution_count": null,
      "metadata": {},
      "outputs": [],
      "source": [
        "# Create a list of weather ratings in logical order\n",
        "category_order = ['good', 'bad', 'worse']\n",
        "\n",
        "# Change the data type of 'rating' to category\n",
        "weather['rating'] = weather.rating.astype('category', ordered=True, categories=category_order)\n",
        "\n",
        "# Examine the head of 'rating'\n",
        "print(weather.rating.head())"
      ]
    },
    {
      "cell_type": "code",
      "execution_count": null,
      "metadata": {},
      "outputs": [],
      "source": [
        "# Count the unique values in 'bad_conditions' and sort the index\n",
        "print(weather.bad_conditions.value_counts().sort_index())\n",
        "\n",
        "# Create a dictionary that maps integers to strings\n",
        "mapping = {0:'good', 1:'bad', 2:'bad', 3:'bad', 4:'bad', 5:'worse', 6:'worse', 7:'worse', 8:'worse', 9:'worse'}\n",
        "\n",
        "# Convert the 'bad_conditions' integers to strings using the 'mapping'\n",
        "weather['rating'] = weather.bad_conditions.map(mapping)\n",
        "\n",
        "# Count the unique values in 'rating'\n",
        "print(weather.rating.value_counts())"
      ]
    }
  ]
}